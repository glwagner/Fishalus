{
 "cells": [
  {
   "cell_type": "markdown",
   "metadata": {},
   "source": [
    "Explore some mollified step/min/max functions"
   ]
  },
  {
   "cell_type": "code",
   "execution_count": null,
   "metadata": {},
   "outputs": [],
   "source": [
    "import numpy as np\n",
    "import matplotlib.pyplot as plt"
   ]
  },
  {
   "cell_type": "code",
   "execution_count": null,
   "metadata": {},
   "outputs": [],
   "source": [
    "%matplotlib notebook"
   ]
  },
  {
   "cell_type": "code",
   "execution_count": null,
   "metadata": {},
   "outputs": [],
   "source": [
    "def softstep(f, df):\n",
    "    return np.exp(f/df) / (1 + np.exp(f/df))\n",
    "\n",
    "def softplus(f, df):\n",
    "    return df * np.log(1 + np.exp(f/df))\n",
    "\n",
    "def softplus2(f, gradf, dx):\n",
    "    df = np.abs(gradf * dx)\n",
    "    return softplus(f, df)\n",
    "\n",
    "def softplus3(f, df):\n",
    "    return softplus(f-df, df) + df\n",
    "\n",
    "def softplus4(f, df):\n",
    "    return f * softstep(f, df)"
   ]
  },
  {
   "cell_type": "code",
   "execution_count": null,
   "metadata": {},
   "outputs": [],
   "source": [
    "x = np.linspace(0, 2*np.pi, 1000)"
   ]
  },
  {
   "cell_type": "code",
   "execution_count": null,
   "metadata": {},
   "outputs": [],
   "source": [
    "f = np.sin(2*x)\n",
    "gradf = np.gradient(f) / np.gradient(x)\n",
    "dx = 0.01\n",
    "df = 0.01\n",
    "\n",
    "plt.figure()\n",
    "plt.axhline(0, c='k')\n",
    "plt.plot(x, f, '.-')\n",
    "plt.plot(x, softplus(f, df), '.-')"
   ]
  },
  {
   "cell_type": "code",
   "execution_count": null,
   "metadata": {},
   "outputs": [],
   "source": [
    "x = np.linspace(0, 2*np.pi, 1000)[:,None]\n",
    "y = np.linspace(0, 2*np.pi, 1000)[None,:]\n",
    "\n",
    "f = np.cos(2*x) * np.sin(3*y) + 0.5 * np.sin(y+x/2)\n",
    "\n",
    "fx = np.gradient(f, axis=0) / np.gradient(x, axis=0)\n",
    "fy = np.gradient(f, axis=1) / np.gradient(y, axis=1)\n",
    "gradf = np.sqrt(fx*fx + fy*fy)\n",
    "\n",
    "plt.figure()\n",
    "plt.imshow(f, clim=(-2,2))\n",
    "\n",
    "plt.figure()\n",
    "plt.imshow(softplus(f, 1e-2*np.max(np.abs(f))), clim=(-2,2))"
   ]
  },
  {
   "cell_type": "code",
   "execution_count": null,
   "metadata": {},
   "outputs": [],
   "source": [
    "np.exp(100)"
   ]
  },
  {
   "cell_type": "code",
   "execution_count": null,
   "metadata": {},
   "outputs": [],
   "source": []
  }
 ],
 "metadata": {
  "kernelspec": {
   "display_name": "Python 3",
   "language": "python",
   "name": "python3"
  },
  "language_info": {
   "codemirror_mode": {
    "name": "ipython",
    "version": 3
   },
   "file_extension": ".py",
   "mimetype": "text/x-python",
   "name": "python",
   "nbconvert_exporter": "python",
   "pygments_lexer": "ipython3",
   "version": "3.7.0"
  }
 },
 "nbformat": 4,
 "nbformat_minor": 2
}
